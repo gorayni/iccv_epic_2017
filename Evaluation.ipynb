{
 "cells": [
  {
   "cell_type": "markdown",
   "metadata": {},
   "source": [
    "# Evaluation"
   ]
  },
  {
   "cell_type": "code",
   "execution_count": 1,
   "metadata": {
    "collapsed": false
   },
   "outputs": [
    {
     "data": {
      "application/javascript": [
       "IPython.OutputArea.auto_scroll_threshold = 9999;"
      ],
      "text/plain": [
       "<IPython.core.display.Javascript object>"
      ]
     },
     "metadata": {},
     "output_type": "display_data"
    }
   ],
   "source": [
    "%%javascript\n",
    "IPython.OutputArea.auto_scroll_threshold = 9999;"
   ]
  },
  {
   "cell_type": "code",
   "execution_count": 2,
   "metadata": {
    "collapsed": false
   },
   "outputs": [
    {
     "name": "stderr",
     "output_type": "stream",
     "text": [
      "Using TensorFlow backend.\n"
     ]
    }
   ],
   "source": [
    "%matplotlib inline\n",
    "\n",
    "from __future__ import division\n",
    "import seaborn as sns\n",
    "import matplotlib\n",
    "import matplotlib.pyplot as plt\n",
    "import brightside as bs\n",
    "import numpy as np\n",
    "import os\n",
    "import experiments as exp\n",
    "import experiments.evaluation as eeval\n",
    "import experiments.utils as eutils\n",
    "import ntcir\n",
    "import ntcir.IO as IO\n",
    "from matplotlib.colors import ListedColormap\n",
    "import csv\n",
    "\n",
    "import sklearn.metrics as metrics\n",
    "\n",
    "def read_csv_results(fname):\n",
    "    frames = list()\n",
    "    groundtruth = list()\n",
    "    predictions = list()\n",
    "    with open(fname, 'rb') as csvfile:\n",
    "        csv_reader = csv.reader(csvfile, delimiter=',')\n",
    "        for row in csv_reader:\n",
    "            user_id, date, ind, gt, prediction = row\n",
    "            frames.append((user_id, date, int(ind)))\n",
    "            groundtruth.append(int(gt))\n",
    "            predictions.append(int(prediction))            \n",
    "    return frames, groundtruth, predictions\n",
    "\n",
    "# Defining colormap for confusion matrices plots\n",
    "cmap = list(reversed(sns.color_palette(\"RdBu\", 40).as_hex()))\n",
    "cmap = ListedColormap(cmap)"
   ]
  },
  {
   "cell_type": "code",
   "execution_count": 3,
   "metadata": {
    "collapsed": false
   },
   "outputs": [],
   "source": [
    "users = IO.load_annotations(ntcir.filepaths)\n",
    "categories = IO.load_categories(ntcir.filepaths)\n",
    "sorted_users = ntcir.utils.sort(users)\n",
    "\n",
    "# Full day sequences\n",
    "num_frames_per_day = 2880\n",
    "sequences = ntcir.get_sequences(sorted_users, num_frames_per_day)"
   ]
  },
  {
   "cell_type": "markdown",
   "metadata": {
    "collapsed": false
   },
   "source": [
    "Forcing keras to use CPU"
   ]
  },
  {
   "cell_type": "code",
   "execution_count": 4,
   "metadata": {
    "collapsed": false
   },
   "outputs": [],
   "source": [
    "import os\n",
    "os.environ[\"CUDA_DEVICE_ORDER\"] = \"PCI_BUS_ID\"   # see issue #152\n",
    "os.environ[\"CUDA_VISIBLE_DEVICES\"] = \"\""
   ]
  },
  {
   "cell_type": "code",
   "execution_count": 5,
   "metadata": {
    "collapsed": false
   },
   "outputs": [],
   "source": [
    "from keras import backend as K"
   ]
  },
  {
   "cell_type": "code",
   "execution_count": 6,
   "metadata": {
    "collapsed": false
   },
   "outputs": [],
   "source": [
    "import tensorflow as tf\n",
    "import keras.backend.tensorflow_backend as KTF\n",
    "\n",
    "def get_session(gpu_fraction=0.8):\n",
    "    num_threads = os.environ.get('OMP_NUM_THREADS')\n",
    "    gpu_options = tf.GPUOptions(per_process_gpu_memory_fraction=gpu_fraction)\n",
    "\n",
    "    if num_threads:\n",
    "        return tf.Session(config=tf.ConfigProto(\n",
    "            gpu_options=gpu_options, intra_op_parallelism_threads=num_threads))\n",
    "    else:\n",
    "        return tf.Session(config=tf.ConfigProto(gpu_options=gpu_options))"
   ]
  },
  {
   "cell_type": "code",
   "execution_count": 7,
   "metadata": {
    "collapsed": false
   },
   "outputs": [],
   "source": [
    "KTF.set_session(get_session())"
   ]
  },
  {
   "cell_type": "markdown",
   "metadata": {},
   "source": [
    "### VGG-16"
   ]
  },
  {
   "cell_type": "code",
   "execution_count": 8,
   "metadata": {
    "collapsed": false
   },
   "outputs": [],
   "source": [
    "from keras.preprocessing.image import ImageDataGenerator\n",
    "\n",
    "test_datagen = ImageDataGenerator(rescale=1./255)\n",
    "\n",
    "model = exp.vgg_16_second_phase_model('weights.VGG-16.best.tf.hdf5')"
   ]
  },
  {
   "cell_type": "code",
   "execution_count": 9,
   "metadata": {
    "collapsed": false
   },
   "outputs": [],
   "source": [
    "from keras.preprocessing.image import load_img\n",
    "from keras.preprocessing.image import img_to_array\n",
    "\n",
    "def load_image(image_data_generator, image, target_size=(224, 224)):    \n",
    "    image_shape = target_size + (3,)\n",
    "    batch_x = np.zeros((1,) + image_shape, dtype=K.floatx())\n",
    "    img = load_img(image.path, target_size=target_size, grayscale=False)\n",
    "    x = img_to_array(img)\n",
    "    x = image_data_generator.random_transform(x)\n",
    "    x = image_data_generator.standardize(x)\n",
    "    batch_x[0] = x\n",
    "    return batch_x\n",
    "\n",
    "test_set = ntcir.read_split('test_split.txt')                      \n",
    "# real_class=[0,1,12,14,15,16,17,18,19,20,2,3,4,5,6,7,8,9,10,11,13]\n",
    "frames = list()\n",
    "groundtruth = list()\n",
    "predictions = list()\n",
    "for user_id, date in test_set:\n",
    "    for ind, image in enumerate(users[user_id][date].images):\n",
    "        img = load_image(test_datagen, image)        \n",
    "        prediction = model.predict(img)\n",
    "        predictions.append(np.argmax(prediction))\n",
    "        groundtruth.append(image.label)\n",
    "        frames.append((user_id,date, ind))    \n",
    "\n",
    "with open('VGG16.test.csv','w') as csv_file:\n",
    "    for i, (user_id,date,ind) in enumerate(frames):\n",
    "        csv_file.write(\"{},{},{},{},{}\".format(user_id,date,ind,groundtruth[i],predictions[i]))\n",
    "        csv_file.write('\\n')    "
   ]
  },
  {
   "cell_type": "code",
   "execution_count": 10,
   "metadata": {
    "collapsed": false
   },
   "outputs": [],
   "source": [
    "fname = 'VGG16.test.csv'\n",
    "frames, groundtruth, predictions = read_csv_results(fname)\n",
    "accuracy = metrics.accuracy_score(groundtruth, predictions)"
   ]
  },
  {
   "cell_type": "code",
   "execution_count": 11,
   "metadata": {
    "collapsed": false
   },
   "outputs": [
    {
     "data": {
      "text/html": [
       "<b>Accuracy:  </b>0.759678714859"
      ],
      "text/latex": [
       "\\textbf{Accuracy: } 0.759678714859"
      ],
      "text/plain": [
       "<brightside.Attribute instance at 0x7f26e1038320>"
      ]
     },
     "metadata": {},
     "output_type": "display_data"
    },
    {
     "data": {
      "image/png": "[encoded data removed]",
      "text/plain": [
       "<matplotlib.figure.Figure at 0x7f2708bc2990>"
      ]
     },
     "metadata": {},
     "output_type": "display_data"
    }
   ],
   "source": [
    "bs.print_attribute('Accuracy: ', accuracy)\n",
    "fig, ax = bs.show_confusion_matrix(groundtruth, predictions, categories, (5,4), cmap=cmap, ticks_size=8, show_xticks=False, show_yticks=True, cbar=False)\n",
    "plt.savefig('confusion_matrix_VGG16.eps', format='eps', dpi=300, bbox_inches='tight')"
   ]
  },
  {
   "cell_type": "code",
   "execution_count": 12,
   "metadata": {
    "collapsed": false
   },
   "outputs": [
    {
     "data": {
      "text/html": [
       "<b>Macro Recall: </b>0.674909602836"
      ],
      "text/latex": [
       "\\textbf{Macro Recall:} 0.674909602836"
      ],
      "text/plain": [
       "<brightside.Attribute instance at 0x7f26e10383b0>"
      ]
     },
     "metadata": {},
     "output_type": "display_data"
    },
    {
     "data": {
      "text/html": [
       "<b>Macro F1: </b>0.667992004675"
      ],
      "text/latex": [
       "\\textbf{Macro F1:} 0.667992004675"
      ],
      "text/plain": [
       "<brightside.Attribute instance at 0x7f26e10383b0>"
      ]
     },
     "metadata": {},
     "output_type": "display_data"
    },
    {
     "data": {
      "text/html": [
       "<b>Macro Precision: </b>0.684992689996"
      ],
      "text/latex": [
       "\\textbf{Macro Precision:} 0.684992689996"
      ],
      "text/plain": [
       "<brightside.Attribute instance at 0x7f26e10383b0>"
      ]
     },
     "metadata": {},
     "output_type": "display_data"
    },
    {
     "data": {
      "text/html": [
       "<b>Accuracy: </b>0.759678714859"
      ],
      "text/latex": [
       "\\textbf{Accuracy:} 0.759678714859"
      ],
      "text/plain": [
       "<brightside.Attribute instance at 0x7f26e10383b0>"
      ]
     },
     "metadata": {},
     "output_type": "display_data"
    }
   ],
   "source": [
    "results = eeval.evaluate(groundtruth, predictions)\n",
    "for metric, value in results.iteritems():\n",
    "    if not isinstance(value, np.ndarray):\n",
    "        bs.print_attribute(' '.join(metric.split('_')).title() + ':', value)"
   ]
  },
  {
   "cell_type": "markdown",
   "metadata": {},
   "source": [
    "### VGG-16+LSTM"
   ]
  },
  {
   "cell_type": "code",
   "execution_count": 8,
   "metadata": {
    "collapsed": false
   },
   "outputs": [],
   "source": [
    "from keras.preprocessing.image import ImageDataGenerator\n",
    "\n",
    "test_datagen = ImageDataGenerator(rescale=1./255)"
   ]
  },
  {
   "cell_type": "markdown",
   "metadata": {},
   "source": [
    "### VGG-16+LSTM Timestep 10"
   ]
  },
  {
   "cell_type": "code",
   "execution_count": 4,
   "metadata": {
    "collapsed": true
   },
   "outputs": [],
   "source": [
    "test_set = ntcir.read_split('test_split.txt')\n",
    "\n",
    "test_batches = ntcir.get_batches(test_set, sequences, include_last=True)"
   ]
  },
  {
   "cell_type": "code",
   "execution_count": 9,
   "metadata": {
    "collapsed": false
   },
   "outputs": [],
   "source": [
    "K.set_learning_phase(False)\n",
    "\n",
    "model = exp.vgg_16_plus_lstm(weights='weights.VGG-16+LSTM.timesteps_10.lr_0.0001.00.tf.hdf5')"
   ]
  },
  {
   "cell_type": "code",
   "execution_count": 10,
   "metadata": {
    "collapsed": false
   },
   "outputs": [],
   "source": [
    "timesteps = 10\n",
    "\n",
    "groundtruth = list()\n",
    "predictions = list()\n",
    "for i, batch in enumerate(test_batches):\n",
    "    x, y = eutils.load_images_batch(test_datagen, users, batch, batch_size=timesteps)\n",
    "    \n",
    "    prediction = model.predict_on_batch(x)\n",
    "    prediction = np.argmax(prediction,axis=2).squeeze()[0:batch.size]\n",
    "    \n",
    "    predictions.extend(prediction)\n",
    "    groundtruth.extend(np.argmax(y,axis=2).squeeze()[0:batch.size])\n",
    "\n",
    "predictions = np.asarray(predictions)\n",
    "groundtruth = np.asarray(groundtruth)\n",
    "\n",
    "np.savetxt('VGG16+LSTM.timestep_'+str(timesteps)+'.test.txt', np.vstack((groundtruth, predictions)).T, delimiter=\",\")"
   ]
  },
  {
   "cell_type": "code",
   "execution_count": 18,
   "metadata": {
    "collapsed": false
   },
   "outputs": [],
   "source": [
    "timesteps=10\n",
    "vgg16_plus_lstm_results = np.loadtxt('VGG16+LSTM.timestep_'+str(timesteps)+'.test.txt', delimiter=',')\n",
    "groundtruth, predictions = np.split(vgg16_plus_lstm_results, 2, axis=1)\n",
    "accuracy = metrics.accuracy_score(groundtruth, predictions)"
   ]
  },
  {
   "cell_type": "code",
   "execution_count": 19,
   "metadata": {
    "collapsed": false
   },
   "outputs": [
    {
     "data": {
      "text/html": [
       "<b>Accuracy:  </b>0.806104417671"
      ],
      "text/latex": [
       "\\textbf{Accuracy: } 0.806104417671"
      ],
      "text/plain": [
       "<brightside.Attribute instance at 0x7f0280ca2488>"
      ]
     },
     "metadata": {},
     "output_type": "display_data"
    },
    {
     "data": {
      "image/png": "[encoded data removed]",
      "text/plain": [
       "<matplotlib.figure.Figure at 0x7f0280c89b10>"
      ]
     },
     "metadata": {},
     "output_type": "display_data"
    }
   ],
   "source": [
    "bs.print_attribute('Accuracy: ', accuracy)\n",
    "fig, ax = bs.show_confusion_matrix(groundtruth, predictions, categories, (5,4), cmap=cmap, ticks_size=8, show_xticks=False, show_yticks=False, cbar=False)\n",
    "plt.savefig('confusion_matrix_VGG16+LSTM.eps', format='eps', dpi=300, bbox_inches='tight')"
   ]
  },
  {
   "cell_type": "code",
   "execution_count": 20,
   "metadata": {
    "collapsed": false
   },
   "outputs": [
    {
     "data": {
      "text/html": [
       "<b>Macro Recall: </b>0.731903906113"
      ],
      "text/latex": [
       "\\textbf{Macro Recall:} 0.731903906113"
      ],
      "text/plain": [
       "<brightside.Attribute instance at 0x7f0312ee1368>"
      ]
     },
     "metadata": {},
     "output_type": "display_data"
    },
    {
     "data": {
      "text/html": [
       "<b>Macro F1: </b>0.725311945801"
      ],
      "text/latex": [
       "\\textbf{Macro F1:} 0.725311945801"
      ],
      "text/plain": [
       "<brightside.Attribute instance at 0x7f0312ee1368>"
      ]
     },
     "metadata": {},
     "output_type": "display_data"
    },
    {
     "data": {
      "text/html": [
       "<b>Macro Precision: </b>0.745557013535"
      ],
      "text/latex": [
       "\\textbf{Macro Precision:} 0.745557013535"
      ],
      "text/plain": [
       "<brightside.Attribute instance at 0x7f0312ee1368>"
      ]
     },
     "metadata": {},
     "output_type": "display_data"
    },
    {
     "data": {
      "text/html": [
       "<b>Accuracy: </b>0.806104417671"
      ],
      "text/latex": [
       "\\textbf{Accuracy:} 0.806104417671"
      ],
      "text/plain": [
       "<brightside.Attribute instance at 0x7f0312ee1368>"
      ]
     },
     "metadata": {},
     "output_type": "display_data"
    }
   ],
   "source": [
    "results = eeval.evaluate(groundtruth, predictions)\n",
    "for metric, value in results.iteritems():\n",
    "    if not isinstance(value, np.ndarray):\n",
    "        bs.print_attribute(' '.join(metric.split('_')).title() + ':', value)"
   ]
  },
  {
   "cell_type": "markdown",
   "metadata": {},
   "source": [
    "### VGG-16+LSTM Timestep 5"
   ]
  },
  {
   "cell_type": "code",
   "execution_count": 9,
   "metadata": {
    "collapsed": true
   },
   "outputs": [],
   "source": [
    "test_set = ntcir.read_split('test_split.txt')\n",
    "\n",
    "test_batches = ntcir.get_batches(test_set, sequences, batch_size=5, include_last=True)"
   ]
  },
  {
   "cell_type": "code",
   "execution_count": 10,
   "metadata": {
    "collapsed": false
   },
   "outputs": [],
   "source": [
    "K.set_learning_phase(False)\n",
    "\n",
    "model = exp.vgg_16_plus_lstm(weights='weights.VGG-16+LSTM.timesteps_5.lr_2.5e-05.03.tf.hdf5',timestep=5)"
   ]
  },
  {
   "cell_type": "code",
   "execution_count": 12,
   "metadata": {
    "collapsed": false
   },
   "outputs": [],
   "source": [
    "timesteps = 5\n",
    "\n",
    "frames = list()\n",
    "groundtruth = list()\n",
    "predictions = list()\n",
    "for i, batch in enumerate(test_batches):\n",
    "    x, y = eutils.load_images_batch(test_datagen, users, batch, batch_size=timesteps)\n",
    "    \n",
    "    prediction = model.predict_on_batch(x)\n",
    "    prediction = np.argmax(prediction,axis=2).squeeze()[0:batch.size]\n",
    "    \n",
    "    predictions.extend(prediction)\n",
    "    groundtruth.extend(np.argmax(y,axis=2).squeeze()[0:batch.size])\n",
    "    \n",
    "    for ind in batch.indices:\n",
    "            frames.append((batch.user_id,batch.date,ind))\n",
    "\n",
    "with open('VGG16+LSTM.timestep_'+str(timesteps)+'.test.csv','w') as csv_file:\n",
    "    for i, (user_id,date,ind) in enumerate(frames):\n",
    "        csv_file.write(\"{},{},{},{},{}\".format(user_id,date,ind,groundtruth[i],predictions[i]))\n",
    "        csv_file.write('\\n')"
   ]
  },
  {
   "cell_type": "code",
   "execution_count": 19,
   "metadata": {
    "collapsed": false
   },
   "outputs": [],
   "source": [
    "timesteps = 5        \n",
    "fname = 'VGG16+LSTM.timestep_'+str(timesteps)+'.test.csv'\n",
    "frames, groundtruth, predictions = read_csv_results(fname)\n",
    "accuracy = metrics.accuracy_score(groundtruth, predictions)"
   ]
  },
  {
   "cell_type": "code",
   "execution_count": 20,
   "metadata": {
    "collapsed": false
   },
   "outputs": [
    {
     "data": {
      "text/html": [
       "<b>Accuracy:  </b>0.789397590361"
      ],
      "text/latex": [
       "\\textbf{Accuracy: } 0.789397590361"
      ],
      "text/plain": [
       "<brightside.Attribute instance at 0x7f583c7d1050>"
      ]
     },
     "metadata": {},
     "output_type": "display_data"
    },
    {
     "data": {
      "image/png": "[encoded data removed]",
      "text/plain": [
       "<matplotlib.figure.Figure at 0x7f583c7c1a90>"
      ]
     },
     "metadata": {},
     "output_type": "display_data"
    }
   ],
   "source": [
    "bs.print_attribute('Accuracy: ', accuracy)\n",
    "fig, ax = bs.show_confusion_matrix(groundtruth, predictions, categories, (5,4), cmap=cmap, ticks_size=8, show_xticks=False, show_yticks=False, cbar=False)\n",
    "plt.savefig('confusion_matrix_VGG16+LSTM.timestep_5.eps', format='eps', dpi=300, bbox_inches='tight')"
   ]
  },
  {
   "cell_type": "code",
   "execution_count": 21,
   "metadata": {
    "collapsed": false
   },
   "outputs": [
    {
     "data": {
      "text/html": [
       "<b>Macro Recall: </b>0.718097223934"
      ],
      "text/latex": [
       "\\textbf{Macro Recall:} 0.718097223934"
      ],
      "text/plain": [
       "<brightside.Attribute instance at 0x7f5844075b00>"
      ]
     },
     "metadata": {},
     "output_type": "display_data"
    },
    {
     "data": {
      "text/html": [
       "<b>Macro F1: </b>0.706963440294"
      ],
      "text/latex": [
       "\\textbf{Macro F1:} 0.706963440294"
      ],
      "text/plain": [
       "<brightside.Attribute instance at 0x7f5844075b00>"
      ]
     },
     "metadata": {},
     "output_type": "display_data"
    },
    {
     "data": {
      "text/html": [
       "<b>Macro Precision: </b>0.728855701806"
      ],
      "text/latex": [
       "\\textbf{Macro Precision:} 0.728855701806"
      ],
      "text/plain": [
       "<brightside.Attribute instance at 0x7f5844075b00>"
      ]
     },
     "metadata": {},
     "output_type": "display_data"
    },
    {
     "data": {
      "text/html": [
       "<b>Accuracy: </b>0.789397590361"
      ],
      "text/latex": [
       "\\textbf{Accuracy:} 0.789397590361"
      ],
      "text/plain": [
       "<brightside.Attribute instance at 0x7f5844075b00>"
      ]
     },
     "metadata": {},
     "output_type": "display_data"
    }
   ],
   "source": [
    "results = eeval.evaluate(groundtruth, predictions)\n",
    "for metric, value in results.iteritems():\n",
    "    if not isinstance(value, np.ndarray):\n",
    "        bs.print_attribute(' '.join(metric.split('_')).title() + ':', value)"
   ]
  },
  {
   "cell_type": "markdown",
   "metadata": {},
   "source": [
    "### Filtered VGG-16+LSTM"
   ]
  },
  {
   "cell_type": "code",
   "execution_count": 7,
   "metadata": {
    "collapsed": false
   },
   "outputs": [],
   "source": [
    "from keras.preprocessing.image import ImageDataGenerator\n",
    "\n",
    "test_datagen = ImageDataGenerator(rescale=1./255)"
   ]
  },
  {
   "cell_type": "code",
   "execution_count": 8,
   "metadata": {
    "collapsed": false
   },
   "outputs": [],
   "source": [
    "test_set = ntcir.read_split('test_split.txt')\n",
    "test_batches = ntcir.get_piggyback_batches(test_set, sequences, batch_size=10, overlap=3, training=False)"
   ]
  },
  {
   "cell_type": "code",
   "execution_count": 9,
   "metadata": {
    "collapsed": false
   },
   "outputs": [],
   "source": [
    "K.set_learning_phase(False)\n",
    "\n",
    "model = exp.filtered_vgg_16_plus_lstm(weights='weights.Filtered_VGG16+LSTM.timesteps_10.overlap_3.lr_0.000050.04.tf.hdf5')"
   ]
  },
  {
   "cell_type": "code",
   "execution_count": 19,
   "metadata": {
    "collapsed": false
   },
   "outputs": [],
   "source": [
    "timestep = 10\n",
    "overlap = 3\n",
    "num_classes = 21\n",
    "non_overlapping = timestep - overlap\n",
    "\n",
    "mask = np.ones((1, timestep, num_classes))\n",
    "prev_values = np.zeros((1, timestep, num_classes))\n",
    "\n",
    "frames = list()\n",
    "groundtruth = list()\n",
    "predictions = list()\n",
    "for day_batches in test_batches:\n",
    "    break\n",
    "    mask[:, :overlap, :] = 1\n",
    "    prev_values[:, :overlap, :] = 0\n",
    "    \n",
    "    for batch in day_batches:\n",
    "        x, y = eutils.load_images_batch(test_datagen, users, batch, batch_size=timestep)\n",
    "        \n",
    "        if batch.size == timestep:\n",
    "            num_frames = non_overlapping\n",
    "        else:\n",
    "            num_frames = batch.size\n",
    "                            \n",
    "        prediction = model.predict_on_batch([x, mask, prev_values])\n",
    "        class_prediction = np.argmax(prediction,axis=2).squeeze()[:num_frames]\n",
    "    \n",
    "        for ind in batch.indices[:num_frames]:\n",
    "            frames.append((batch.user_id,batch.date, ind))\n",
    "        \n",
    "        predictions.extend(class_prediction)\n",
    "        groundtruth.extend(np.argmax(y,axis=2).squeeze()[:num_frames])\n",
    "    \n",
    "        mask[:, :overlap, :] = 0\n",
    "        prev_values[:, :overlap, :] = prediction[:, -overlap:, :]\n",
    "        \n",
    "predictions = np.asarray(predictions)\n",
    "groundtruth = np.asarray(groundtruth)\n",
    "\n",
    "np.savetxt('Filtered_VGG16+LSTM.timestep_'+str(timestep)+'.overlap_'+str(overlap)+'.test.txt', np.vstack((groundtruth, predictions)).T, delimiter=\",\")"
   ]
  },
  {
   "cell_type": "code",
   "execution_count": 24,
   "metadata": {
    "collapsed": false
   },
   "outputs": [
    {
     "ename": "IndexError",
     "evalue": "tuple index out of range",
     "output_type": "error",
     "traceback": [
      "\u001b[0;31m---------------------------------------------------------------------------\u001b[0m",
      "\u001b[0;31mIndexError\u001b[0m                                Traceback (most recent call last)",
      "\u001b[0;32m<ipython-input-24-812aa35c9960>\u001b[0m in \u001b[0;36m<module>\u001b[0;34m()\u001b[0m\n\u001b[1;32m      2\u001b[0m \u001b[0moverlap\u001b[0m\u001b[0;34m=\u001b[0m\u001b[0;36m3\u001b[0m\u001b[0;34m\u001b[0m\u001b[0m\n\u001b[1;32m      3\u001b[0m \u001b[0mvgg16_plus_lstm_results\u001b[0m \u001b[0;34m=\u001b[0m \u001b[0mnp\u001b[0m\u001b[0;34m.\u001b[0m\u001b[0mloadtxt\u001b[0m\u001b[0;34m(\u001b[0m\u001b[0;34m'Filtered_VGG16+LSTM.timestep_'\u001b[0m\u001b[0;34m+\u001b[0m\u001b[0mstr\u001b[0m\u001b[0;34m(\u001b[0m\u001b[0mtimestep\u001b[0m\u001b[0;34m)\u001b[0m\u001b[0;34m+\u001b[0m\u001b[0;34m'.overlap_'\u001b[0m\u001b[0;34m+\u001b[0m\u001b[0mstr\u001b[0m\u001b[0;34m(\u001b[0m\u001b[0moverlap\u001b[0m\u001b[0;34m)\u001b[0m\u001b[0;34m+\u001b[0m\u001b[0;34m'.test.txt'\u001b[0m\u001b[0;34m,\u001b[0m \u001b[0mdelimiter\u001b[0m\u001b[0;34m=\u001b[0m\u001b[0;34m','\u001b[0m\u001b[0;34m)\u001b[0m\u001b[0;34m\u001b[0m\u001b[0m\n\u001b[0;32m----> 4\u001b[0;31m \u001b[0mgroundtruth\u001b[0m\u001b[0;34m,\u001b[0m \u001b[0mpredictions\u001b[0m \u001b[0;34m=\u001b[0m \u001b[0mnp\u001b[0m\u001b[0;34m.\u001b[0m\u001b[0msplit\u001b[0m\u001b[0;34m(\u001b[0m\u001b[0mvgg16_plus_lstm_results\u001b[0m\u001b[0;34m,\u001b[0m \u001b[0;36m2\u001b[0m\u001b[0;34m,\u001b[0m \u001b[0maxis\u001b[0m\u001b[0;34m=\u001b[0m\u001b[0;36m1\u001b[0m\u001b[0;34m)\u001b[0m\u001b[0;34m\u001b[0m\u001b[0m\n\u001b[0m\u001b[1;32m      5\u001b[0m \u001b[0maccuracy\u001b[0m \u001b[0;34m=\u001b[0m \u001b[0mmetrics\u001b[0m\u001b[0;34m.\u001b[0m\u001b[0maccuracy_score\u001b[0m\u001b[0;34m(\u001b[0m\u001b[0mgroundtruth\u001b[0m\u001b[0;34m,\u001b[0m \u001b[0mpredictions\u001b[0m\u001b[0;34m)\u001b[0m\u001b[0;34m\u001b[0m\u001b[0m\n",
      "\u001b[0;32m/usr/local/lib/python2.7/dist-packages/numpy/lib/shape_base.pyc\u001b[0m in \u001b[0;36msplit\u001b[0;34m(ary, indices_or_sections, axis)\u001b[0m\n\u001b[1;32m    536\u001b[0m     \u001b[0;32mexcept\u001b[0m \u001b[0mTypeError\u001b[0m\u001b[0;34m:\u001b[0m\u001b[0;34m\u001b[0m\u001b[0m\n\u001b[1;32m    537\u001b[0m         \u001b[0msections\u001b[0m \u001b[0;34m=\u001b[0m \u001b[0mindices_or_sections\u001b[0m\u001b[0;34m\u001b[0m\u001b[0m\n\u001b[0;32m--> 538\u001b[0;31m         \u001b[0mN\u001b[0m \u001b[0;34m=\u001b[0m \u001b[0mary\u001b[0m\u001b[0;34m.\u001b[0m\u001b[0mshape\u001b[0m\u001b[0;34m[\u001b[0m\u001b[0maxis\u001b[0m\u001b[0;34m]\u001b[0m\u001b[0;34m\u001b[0m\u001b[0m\n\u001b[0m\u001b[1;32m    539\u001b[0m         \u001b[0;32mif\u001b[0m \u001b[0mN\u001b[0m \u001b[0;34m%\u001b[0m \u001b[0msections\u001b[0m\u001b[0;34m:\u001b[0m\u001b[0;34m\u001b[0m\u001b[0m\n\u001b[1;32m    540\u001b[0m             raise ValueError(\n",
      "\u001b[0;31mIndexError\u001b[0m: tuple index out of range"
     ]
    }
   ],
   "source": [
    "timestep=10\n",
    "overlap=3\n",
    "vgg16_plus_lstm_results = np.loadtxt('Filtered_VGG16+LSTM.timestep_'+str(timestep)+'.overlap_'+str(overlap)+'.test.txt', delimiter=',')\n",
    "groundtruth, predictions = np.split(vgg16_plus_lstm_results, 2, axis=1)\n",
    "accuracy = metrics.accuracy_score(groundtruth, predictions)"
   ]
  },
  {
   "cell_type": "code",
   "execution_count": 22,
   "metadata": {
    "collapsed": false
   },
   "outputs": [
    {
     "data": {
      "text/html": [
       "<b>Macro Recall: </b>0.251069497976"
      ],
      "text/latex": [
       "\\textbf{Macro Recall:} 0.251069497976"
      ],
      "text/plain": [
       "<brightside.Attribute instance at 0x7f23683a5a28>"
      ]
     },
     "metadata": {},
     "output_type": "display_data"
    },
    {
     "data": {
      "text/html": [
       "<b>Macro F1: </b>0.208200909416"
      ],
      "text/latex": [
       "\\textbf{Macro F1:} 0.208200909416"
      ],
      "text/plain": [
       "<brightside.Attribute instance at 0x7f23683a5a28>"
      ]
     },
     "metadata": {},
     "output_type": "display_data"
    },
    {
     "data": {
      "text/html": [
       "<b>Macro Precision: </b>0.256720736112"
      ],
      "text/latex": [
       "\\textbf{Macro Precision:} 0.256720736112"
      ],
      "text/plain": [
       "<brightside.Attribute instance at 0x7f23683a5a28>"
      ]
     },
     "metadata": {},
     "output_type": "display_data"
    },
    {
     "data": {
      "text/html": [
       "<b>Accuracy: </b>0.485842985843"
      ],
      "text/latex": [
       "\\textbf{Accuracy:} 0.485842985843"
      ],
      "text/plain": [
       "<brightside.Attribute instance at 0x7f23683a5a28>"
      ]
     },
     "metadata": {},
     "output_type": "display_data"
    }
   ],
   "source": [
    "results = eeval.evaluate(groundtruth, predictions)\n",
    "for metric, value in results.iteritems():\n",
    "    if not isinstance(value, np.ndarray):\n",
    "        bs.print_attribute(' '.join(metric.split('_')).title() + ':', value)"
   ]
  },
  {
   "cell_type": "code",
   "execution_count": 18,
   "metadata": {
    "collapsed": false
   },
   "outputs": [
    {
     "data": {
      "text/html": [
       "<b>Accuracy:  </b>0.485842985843"
      ],
      "text/latex": [
       "\\textbf{Accuracy: } 0.485842985843"
      ],
      "text/plain": [
       "<brightside.Attribute instance at 0x7f23701f2050>"
      ]
     },
     "metadata": {},
     "output_type": "display_data"
    },
    {
     "data": {
      "image/png": "[encoded data removed]",
      "text/plain": [
       "<matplotlib.figure.Figure at 0x7f2370209790>"
      ]
     },
     "metadata": {},
     "output_type": "display_data"
    }
   ],
   "source": [
    "timestep = 10\n",
    "overlap = 3\n",
    "bs.print_attribute('Accuracy: ', accuracy)\n",
    "fig, ax = bs.show_confusion_matrix(groundtruth, predictions, categories, (5,4), cmap=cmap, ticks_size=8, show_xticks=False, show_yticks=False, cbar=False)\n",
    "plt.savefig('confusion_matrix_Filtered_VGG16+LSTM.eps', format='eps', dpi=300, bbox_inches='tight')"
   ]
  },
  {
   "cell_type": "code",
   "execution_count": 22,
   "metadata": {
    "collapsed": true
   },
   "outputs": [],
   "source": [
    "def show_sequences(groundtruth, predictions, labels):\n",
    "    \n",
    "    # Creating colormap\n",
    "    colors = sns.color_palette(\"hls\", len(labels))\n",
    "#     np.random.shuffle(colors)\n",
    "    labels_colors = {i: (label, colors[i]) for i, label in enumerate(sorted(labels))}\n",
    "\n",
    "    true_ind = len(labels)\n",
    "    false_ind = len(labels)+1\n",
    "    \n",
    "    labels_colors[true_ind] = ('True Prediction', (251/255, 48/255, 72/255))\n",
    "    labels_colors[false_ind] = ('False Prediction', (0, 48/255, 203/255))\n",
    "    \n",
    "    sequences = -np.ones((2, len(groundtruth)), np.int)\n",
    "    for i, (g, p) in enumerate(zip(groundtruth, predictions)):\n",
    "        sequences[0,i] = g\n",
    "        sequences[1,i] = true_ind if p == g else false_ind\n",
    "\n",
    "    fig, ax = bs.show_sequences(sequences,labels_colors, figsize=(13,1), \n",
    "                                mask_value=-1, yticklabels=['Groundtruth', 'Prediction'],\n",
    "                                xticklabels=50, leg_square_size=6, show_box=True, plot_xlabel='Frame')\n",
    "\n",
    "    plt.show()   "
   ]
  },
  {
   "cell_type": "code",
   "execution_count": 23,
   "metadata": {
    "collapsed": false
   },
   "outputs": [
    {
     "name": "stdout",
     "output_type": "stream",
     "text": [
      "('u1', '2015-03-14', 0)\n"
     ]
    }
   ],
   "source": [
    "print frames[0]\n",
    "\n",
    "for i, (user_id, date, ind)"
   ]
  },
  {
   "cell_type": "code",
   "execution_count": 42,
   "metadata": {
    "collapsed": false
   },
   "outputs": [],
   "source": [
    "from collections import defaultdict\n",
    "\n",
    "frames_dict = defaultdict(lambda: defaultdict(list))\n",
    "groundtruth_dict = defaultdict(lambda: defaultdict(list))\n",
    "predictions_dict = defaultdict(lambda: defaultdict(list))\n",
    "for i, (user_id, date, ind) in enumerate(frames):\n",
    "    frames_dict[user_id][date].append(ind) \n",
    "    groundtruth_dict[user_id][date].append(groundtruth[i])\n",
    "    predictions_dict[user_id][date].append(predictions[i])\n",
    "\n",
    "frames_dict = ntcir.utils.default_to_regular(frames_dict)\n",
    "groundtruth_dict = ntcir.utils.default_to_regular(groundtruth_dict)\n",
    "predictions_dict = ntcir.utils.default_to_regular(predictions_dict)"
   ]
  },
  {
   "cell_type": "code",
   "execution_count": 47,
   "metadata": {
    "collapsed": false
   },
   "outputs": [
    {
     "data": {
      "image/png": "[encoded data removed]",
      "text/plain": [
       "<matplotlib.figure.Figure at 0x7f5844155710>"
      ]
     },
     "metadata": {},
     "output_type": "display_data"
    }
   ],
   "source": [
    "user_id = 'u1'\n",
    "date = '2015-03-12'\n",
    "show_sequences(groundtruth_dict[user_id][date],predictions_dict[user_id][date],categories)\n",
    "fig.savefig('{}_{}_predictions.png'.format(user_id,date), bbox_inches = 'tight', format='png', dpi=150)"
   ]
  },
  {
   "cell_type": "code",
   "execution_count": null,
   "metadata": {
    "collapsed": true
   },
   "outputs": [],
   "source": []
  }
 ],
 "metadata": {
  "kernelspec": {
   "display_name": "Python 2",
   "language": "python",
   "name": "python2"
  },
  "language_info": {
   "codemirror_mode": {
    "name": "ipython",
    "version": 2
   },
   "file_extension": ".py",
   "mimetype": "text/x-python",
   "name": "python",
   "nbconvert_exporter": "python",
   "pygments_lexer": "ipython2",
   "version": "2.7.12"
  }
 },
 "nbformat": 4,
 "nbformat_minor": 1
}

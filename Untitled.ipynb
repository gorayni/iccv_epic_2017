{
 "cells": [
  {
   "cell_type": "code",
   "execution_count": 1,
   "metadata": {
    "collapsed": false
   },
   "outputs": [
    {
     "data": {
      "application/javascript": [
       "IPython.OutputArea.auto_scroll_threshold = 9999;"
      ],
      "text/plain": [
       "<IPython.core.display.Javascript object>"
      ]
     },
     "metadata": {},
     "output_type": "display_data"
    }
   ],
   "source": [
    "%%javascript\n",
    "IPython.OutputArea.auto_scroll_threshold = 9999;"
   ]
  },
  {
   "cell_type": "code",
   "execution_count": 2,
   "metadata": {
    "collapsed": true
   },
   "outputs": [],
   "source": [
    "%matplotlib inline\n",
    "\n",
    "from __future__ import division\n",
    "\n",
    "import brightside as bs\n",
    "import numpy as np\n",
    "import ntcir\n",
    "import ntcir.IO as IO\n",
    "import os\n",
    "import os.path as osp\n",
    "import re\n",
    "import itertools\n",
    "import pickle\n",
    "import random\n",
    "\n",
    "import matplotlib\n",
    "import matplotlib.pyplot as plt\n",
    "import seaborn as sns\n",
    "from IPython.display import display\n",
    "\n",
    "import collections\n",
    "from easydict import EasyDict as edict\n",
    "import pandas as pd\n",
    "\n",
    "from skimage import io"
   ]
  },
  {
   "cell_type": "code",
   "execution_count": 3,
   "metadata": {
    "collapsed": true
   },
   "outputs": [],
   "source": [
    "users = IO.load_annotations(ntcir.filepaths)"
   ]
  },
  {
   "cell_type": "code",
   "execution_count": 4,
   "metadata": {
    "collapsed": true
   },
   "outputs": [],
   "source": [
    "import caffe"
   ]
  },
  {
   "cell_type": "code",
   "execution_count": 5,
   "metadata": {
    "collapsed": false
   },
   "outputs": [],
   "source": [
    "caffe.set_mode_gpu()\n",
    "caffe.set_device(0)"
   ]
  },
  {
   "cell_type": "code",
   "execution_count": 6,
   "metadata": {
    "collapsed": false
   },
   "outputs": [],
   "source": [
    "net_filepaths = edict({'prototxt': osp.realpath(\"cnn/googlenet/deploy.prototxt\"),\n",
    "                       'caffemodel': osp.realpath('cnn/googlenet/finetune_dailyactivities_iter_4370.caffemodel'),\n",
    "                       'image_mean': osp.realpath(\"cnn/ilsvrc_2012_mean.npy\")})\n",
    "\n",
    "\n",
    "def load_test_cnn(net_filepaths):\n",
    "    # loads activities net\n",
    "    net = caffe.Net(net_filepaths.prototxt, net_filepaths.caffemodel, caffe.TEST)\n",
    "\n",
    "    # Preprocessing for caffe inputs\n",
    "    transformer = caffe.io.Transformer({'data': net.blobs['data'].data.shape})\n",
    "    transformer.set_transpose('data', (2, 0, 1))\n",
    "    transformer.set_channel_swap('data', (2, 1, 0))\n",
    "    transformer.set_raw_scale('data', 255.0)\n",
    "\n",
    "    ilsvrc_mean = np.load(net_filepaths.image_mean)\n",
    "    transformer.set_mean('data', ilsvrc_mean.mean(1).mean(1))  # mean pixel\n",
    "    return net, transformer\n",
    "                       \n",
    "net, transformer = load_test_cnn(net_filepaths)"
   ]
  },
  {
   "cell_type": "code",
   "execution_count": 17,
   "metadata": {
    "collapsed": false
   },
   "outputs": [],
   "source": [
    "scores = list()\n",
    "for i, image in enumerate(users[2].dates[10].images):\n",
    "    img = io.imread(image.path)\n",
    "\n",
    "    net.blobs['data'].data[...] = transformer.preprocess('data', img)\n",
    "    net.forward()\n",
    "    \n",
    "    scores.append(net.blobs['probs'].data[0].flatten().copy())"
   ]
  },
  {
   "cell_type": "code",
   "execution_count": 21,
   "metadata": {
    "collapsed": false
   },
   "outputs": [],
   "source": [
    "# dst_filepath = 'scores.p'\n",
    "# with open(dst_filepath, 'w') as f:\n",
    "#     pickle.dump(scores, f, pickle.HIGHEST_PROTOCOL)"
   ]
  },
  {
   "cell_type": "code",
   "execution_count": 5,
   "metadata": {
    "collapsed": false
   },
   "outputs": [],
   "source": [
    "with open('scores.p', 'r') as f:\n",
    "    scores = pickle.load(f)"
   ]
  },
  {
   "cell_type": "markdown",
   "metadata": {
    "collapsed": false
   },
   "source": [
    "Calculating accuracy for trained network"
   ]
  },
  {
   "cell_type": "code",
   "execution_count": 15,
   "metadata": {
    "collapsed": false
   },
   "outputs": [
    {
     "data": {
      "text/html": [
       "<b>Accuracy:  </b>0.163912756114"
      ],
      "text/latex": [
       "\\textbf{Accuracy: } 0.163912756114"
      ],
      "text/plain": [
       "<brightside.Attribute instance at 0x7f4250965830>"
      ]
     },
     "metadata": {},
     "output_type": "display_data"
    }
   ],
   "source": [
    "import sklearn.metrics as metrics\n",
    "\n",
    "predictions = np.asarray([np.argmax(scores[i]) for i in range(len(scores))])\n",
    "groundtruth = np.asarray([img.label for img in users[2].dates[10].images])\n",
    "\n",
    "accuracy = metrics.accuracy_score(groundtruth, predictions)\n",
    "bs.print_attribute('Accuracy: ', accuracy)"
   ]
  },
  {
   "cell_type": "code",
   "execution_count": 25,
   "metadata": {
    "collapsed": true
   },
   "outputs": [],
   "source": [
    "def show_sequences(groundtruth, predictions, labels):\n",
    "    \n",
    "    # Creating colormap\n",
    "    colors = sns.color_palette(\"hls\", len(labels))\n",
    "#     np.random.shuffle(colors)\n",
    "    labels_colors = {i: (label, colors[i]) for i, label in enumerate(sorted(labels))}\n",
    "\n",
    "    true_ind = len(labels)\n",
    "    false_ind = len(labels)+1\n",
    "    \n",
    "    labels_colors[true_ind] = ('True Prediction', (251/255, 48/255, 72/255))\n",
    "    labels_colors[false_ind] = ('False Prediction', (0, 48/255, 203/255))\n",
    "    \n",
    "    sequences = -np.ones((2, len(groundtruth)), np.int)\n",
    "    for i, (g, p) in enumerate(zip(groundtruth, predictions)):\n",
    "        sequences[0,i] = g\n",
    "        sequences[1,i] = true_ind if p == g else false_ind\n",
    "\n",
    "    fig, ax = bs.show_sequences(sequences,labels_colors, figsize=(13,1), \n",
    "                                mask_value=-1, yticklabels=['Groundtruth', 'Prediction'],\n",
    "                                xticklabels=50, leg_square_size=6, show_box=True, plot_xlabel='Frame')\n",
    "\n",
    "    plt.show()        "
   ]
  },
  {
   "cell_type": "code",
   "execution_count": 27,
   "metadata": {
    "collapsed": false
   },
   "outputs": [
    {
     "data": {
      "image/png": "[encoded data removed]",
      "text/plain": [
       "<matplotlib.figure.Figure at 0x7f42509ba650>"
      ]
     },
     "metadata": {},
     "output_type": "display_data"
    }
   ],
   "source": [
    "show_sequences(groundtruth,predictions,labels)"
   ]
  },
  {
   "cell_type": "code",
   "execution_count": 1,
   "metadata": {
    "collapsed": false
   },
   "outputs": [],
   "source": [
    "import numpy as np\n",
    "\n",
    "# fix random seed for reproducibility\n",
    "np.random.seed(7)\n",
    "# define the raw dataset\n",
    "alphabet = \"ABCDEFGHIJKLMNOPQRSTUVWXYZ\"\n",
    "# create mapping of characters to integers (0-25) and the reverse\n",
    "char_to_int =  dict((c, i) for i, c in enumerate(alphabet))\n",
    "int_to_char = dict((i, c) for i, c in enumerate(alphabet))"
   ]
  },
  {
   "cell_type": "code",
   "execution_count": 2,
   "metadata": {
    "collapsed": false
   },
   "outputs": [
    {
     "name": "stdout",
     "output_type": "stream",
     "text": [
      "PQRST -> U\n",
      "W -> X\n",
      "O -> P\n",
      "OPQ -> R\n",
      "IJKLM -> N\n",
      "QRSTU -> V\n",
      "ABCD -> E\n"
     ]
    }
   ],
   "source": [
    "# prepare the dataset of input to output pairs encoded as integers\n",
    "num_inputs = 1000\n",
    "max_len = 5\n",
    "dataX = []\n",
    "dataY = []\n",
    "for i in range(num_inputs):\n",
    "    start = np.random.randint(len(alphabet)-2)\n",
    "    end = np.random.randint(start, min(start+max_len,len(alphabet)-1))\n",
    "    sequence_in = alphabet[start:end+1]\n",
    "    sequence_out = alphabet[end + 1]\n",
    "    dataX.append([char_to_int[char] for char in sequence_in])\n",
    "    dataY.append(char_to_int[sequence_out])\n",
    "    \n",
    "for i, (sequence_in, sequence_out) in enumerate(zip(dataX, dataY)):        \n",
    "    print ''.join([int_to_char[s] for s in sequence_in]), '->', int_to_char[sequence_out]\n",
    "    if i > 5:\n",
    "        break"
   ]
  },
  {
   "cell_type": "code",
   "execution_count": 7,
   "metadata": {
    "collapsed": false
   },
   "outputs": [
    {
     "name": "stdout",
     "output_type": "stream",
     "text": [
      "5\n"
     ]
    }
   ],
   "source": [
    "from keras.utils import np_utils\n",
    "from keras.preprocessing.sequence import pad_sequences\n",
    "\n",
    "# convert list of lists to array and pad sequences if needed\n",
    "X = pad_sequences(dataX, maxlen=max_len, dtype='float32')\n",
    "\n",
    "# reshape X to be [samples, time steps, features]\n",
    "X = np.reshape(X, (X.shape[0], max_len, 1))\n",
    "# # normalize\n",
    "X = X / float(len(alphabet))\n",
    "# one hot encode the output variable\n",
    "y = np_utils.to_categorical(dataY)\n",
    "\n",
    "print X.shape[1]"
   ]
  },
  {
   "cell_type": "code",
   "execution_count": 48,
   "metadata": {
    "collapsed": false
   },
   "outputs": [
    {
     "name": "stdout",
     "output_type": "stream",
     "text": [
      "Epoch 1/50\n",
      "8s - loss: 3.0584 - acc: 0.0800\n",
      "Epoch 2/50\n",
      "8s - loss: 2.6782 - acc: 0.1480\n",
      "Epoch 3/50\n",
      "8s - loss: 2.3125 - acc: 0.2130\n",
      "Epoch 4/50\n",
      "8s - loss: 2.0935 - acc: 0.2590\n",
      "Epoch 5/50\n",
      "8s - loss: 1.9444 - acc: 0.3020\n",
      "Epoch 6/50\n",
      "8s - loss: 1.8316 - acc: 0.3380\n",
      "Epoch 7/50\n",
      "8s - loss: 1.7213 - acc: 0.3840\n",
      "Epoch 8/50\n",
      "8s - loss: 1.6418 - acc: 0.4260\n",
      "Epoch 9/50\n",
      "8s - loss: 1.5632 - acc: 0.4430\n",
      "Epoch 10/50\n",
      "8s - loss: 1.4907 - acc: 0.4830\n",
      "Epoch 11/50\n",
      "8s - loss: 1.4280 - acc: 0.5120\n",
      "Epoch 12/50\n",
      "8s - loss: 1.3612 - acc: 0.5380\n",
      "Epoch 13/50\n",
      "8s - loss: 1.3217 - acc: 0.5630\n",
      "Epoch 14/50\n",
      "8s - loss: 1.2699 - acc: 0.5780\n",
      "Epoch 15/50\n",
      "8s - loss: 1.2159 - acc: 0.6020\n",
      "Epoch 16/50\n",
      "8s - loss: 1.1760 - acc: 0.6330\n",
      "Epoch 17/50\n",
      "9s - loss: 1.1300 - acc: 0.6530\n",
      "Epoch 18/50\n",
      "8s - loss: 1.0980 - acc: 0.6460\n",
      "Epoch 19/50\n",
      "8s - loss: 1.0667 - acc: 0.6720\n",
      "Epoch 20/50\n",
      "8s - loss: 1.0365 - acc: 0.6840\n",
      "Epoch 21/50\n",
      "8s - loss: 1.0019 - acc: 0.6820\n",
      "Epoch 22/50\n",
      "8s - loss: 0.9766 - acc: 0.6930\n",
      "Epoch 23/50\n",
      "8s - loss: 0.9578 - acc: 0.7200\n",
      "Epoch 24/50\n",
      "8s - loss: 0.9255 - acc: 0.7120\n",
      "Epoch 25/50\n",
      "8s - loss: 0.9164 - acc: 0.7210\n",
      "Epoch 26/50\n",
      "8s - loss: 0.8802 - acc: 0.7360\n",
      "Epoch 27/50\n",
      "8s - loss: 0.8768 - acc: 0.7140\n",
      "Epoch 28/50\n",
      "8s - loss: 0.8331 - acc: 0.7410\n",
      "Epoch 29/50\n",
      "8s - loss: 0.8328 - acc: 0.7240\n",
      "Epoch 30/50\n",
      "8s - loss: 0.8008 - acc: 0.7540\n",
      "Epoch 31/50\n",
      "8s - loss: 0.7965 - acc: 0.7370\n",
      "Epoch 32/50\n",
      "8s - loss: 0.7765 - acc: 0.7620\n",
      "Epoch 33/50\n",
      "8s - loss: 0.7545 - acc: 0.7590\n",
      "Epoch 34/50\n",
      "8s - loss: 0.7527 - acc: 0.7540\n",
      "Epoch 35/50\n",
      "8s - loss: 0.7273 - acc: 0.7770\n",
      "Epoch 36/50\n",
      "8s - loss: 0.7145 - acc: 0.7790\n",
      "Epoch 37/50\n",
      "8s - loss: 0.7087 - acc: 0.7740\n",
      "Epoch 38/50\n",
      "8s - loss: 0.6871 - acc: 0.7900\n",
      "Epoch 39/50\n",
      "8s - loss: 0.6854 - acc: 0.7800\n",
      "Epoch 40/50\n",
      "9s - loss: 0.6642 - acc: 0.7870\n",
      "Epoch 41/50\n",
      "8s - loss: 0.6537 - acc: 0.7960\n",
      "Epoch 42/50\n",
      "8s - loss: 0.6528 - acc: 0.7900\n",
      "Epoch 43/50\n",
      "8s - loss: 0.6345 - acc: 0.7940\n",
      "Epoch 44/50\n",
      "8s - loss: 0.6166 - acc: 0.8070\n",
      "Epoch 45/50\n",
      "8s - loss: 0.6203 - acc: 0.8110\n",
      "Epoch 46/50\n",
      "8s - loss: 0.6126 - acc: 0.8110\n",
      "Epoch 47/50\n",
      "8s - loss: 0.6012 - acc: 0.8120\n",
      "Epoch 48/50\n",
      "8s - loss: 0.5864 - acc: 0.8040\n",
      "Epoch 49/50\n",
      "8s - loss: 0.5791 - acc: 0.8160\n",
      "Epoch 50/50\n",
      "9s - loss: 0.5833 - acc: 0.8020\n"
     ]
    },
    {
     "data": {
      "text/plain": [
       "<keras.callbacks.History at 0x7f02b0f76d50>"
      ]
     },
     "execution_count": 48,
     "metadata": {},
     "output_type": "execute_result"
    }
   ],
   "source": [
    "from keras.models import Sequential\n",
    "from keras.layers import Dense\n",
    "from keras.layers import LSTM\n",
    "from theano.tensor.shared_randomstreams import RandomStreams\n",
    "\n",
    "# create and fit the model\n",
    "batch_size = 1\n",
    "model = Sequential()\n",
    "model.add(LSTM(32, input_shape=(X.shape[1], 1)))\n",
    "model.add(Dense(y.shape[1], activation='softmax'))\n",
    "model.compile(loss='categorical_crossentropy', optimizer='adam', metrics=['accuracy'])\n",
    "model.fit(X, y, nb_epoch=50, batch_size=batch_size, verbose=2)"
   ]
  },
  {
   "cell_type": "code",
   "execution_count": 41,
   "metadata": {
    "collapsed": false
   },
   "outputs": [
    {
     "name": "stdout",
     "output_type": "stream",
     "text": [
      "Model Accuracy: 67.90%\n",
      "TUVWX -> X\n",
      "OP -> Q\n",
      "DEFG -> H\n",
      "BC -> D\n",
      "XY -> Z\n",
      "B -> D\n",
      "A -> C\n",
      "MNOPQ -> R\n",
      "DEF -> G\n",
      "WX -> Z\n",
      "DEFG -> H\n",
      "R -> Q\n",
      "QRSTU -> V\n",
      "RST -> T\n",
      "K -> M\n",
      "OPQ -> R\n",
      "XY -> Z\n",
      "X -> Y\n",
      "NOP -> Q\n",
      "LMNO -> P\n"
     ]
    }
   ],
   "source": [
    "# summarize performance of the model\n",
    "scores = model.evaluate(X, y, verbose=0)\n",
    "print(\"Model Accuracy: %.2f%%\" % (scores[1]*100))\n",
    "# demonstrate some model predictions\n",
    "for i in range(20):\n",
    "    pattern_index = np.random.randint(len(dataX))\n",
    "    pattern = dataX[pattern_index]\n",
    "    x = pad_sequences([pattern], maxlen=max_len, dtype='float32')\n",
    "    x = np.reshape(x, (1, max_len, 1))\n",
    "    x = x / float(len(alphabet))\n",
    "    prediction = model.predict(x, verbose=0)\n",
    "    index = np.argmax(prediction)\n",
    "    result = int_to_char[index]\n",
    "    seq_in = ''.join([int_to_char[value] for value in pattern])\n",
    "    print seq_in, \"->\", result"
   ]
  },
  {
   "cell_type": "markdown",
   "metadata": {},
   "source": [
    "<h2 id=\"intro\">Introduction</h2>"
   ]
  },
  {
   "cell_type": "code",
   "execution_count": 7,
   "metadata": {
    "collapsed": false
   },
   "outputs": [],
   "source": [
    "from collections import defaultdict\n",
    "\n",
    "scores = defaultdict(lambda: defaultdict(list))\n",
    "\n",
    "annotations = IO.load_annotations(ntcir.filepaths)"
   ]
  },
  {
   "cell_type": "code",
   "execution_count": 20,
   "metadata": {
    "collapsed": false
   },
   "outputs": [],
   "source": [
    "scores = defaultdict(lambda: defaultdict(list))\n",
    "for user in annotations:\n",
    "    for day in user.days:\n",
    "        for image in day.images:\n",
    "            img = io.imread(image.path)\n",
    "\n",
    "            net.blobs['data'].data[...] = transformer.preprocess('data', img)\n",
    "            net.forward()\n",
    "\n",
    "            scores[user.id_][day.date].append(net.blobs['probs'].data[0].flatten().copy())"
   ]
  },
  {
   "cell_type": "code",
   "execution_count": 21,
   "metadata": {
    "collapsed": false
   },
   "outputs": [],
   "source": [
    "def default_to_regular(d):\n",
    "    if isinstance(d, defaultdict):\n",
    "        d = {k: default_to_regular(v) for k, v in d.iteritems()}\n",
    "    return d\n",
    "\n",
    "dst_filepath = 'scores.p'\n",
    "with open(dst_filepath, 'w') as f:\n",
    "    pickle.dump(default_to_regular(scores), f, pickle.HIGHEST_PROTOCOL)"
   ]
  },
  {
   "cell_type": "markdown",
   "metadata": {
    "collapsed": false
   },
   "source": [
    "Load scores from file"
   ]
  },
  {
   "cell_type": "code",
   "execution_count": 12,
   "metadata": {
    "collapsed": false
   },
   "outputs": [],
   "source": [
    "with open('scores.p', 'r') as f:\n",
    "    scores = pickle.load(f)"
   ]
  },
  {
   "cell_type": "code",
   "execution_count": 13,
   "metadata": {
    "collapsed": false
   },
   "outputs": [
    {
     "name": "stdout",
     "output_type": "stream",
     "text": [
      "u1 2015-03-18 362 [ 0.00998115  0.00676216  0.06765392  0.04876916  0.00602223  0.05749541\n",
      "  0.03272726  0.01536843  0.00167697  0.00994555  0.04623464  0.11796094\n",
      "  0.03008133  0.10093409  0.03296641  0.06090702  0.00512691  0.02309791\n",
      "  0.28352386  0.0249718   0.01779279]\n"
     ]
    }
   ],
   "source": [
    "for user_id, dates in scores.items():\n",
    "    for date, scores in dates.items():\n",
    "        print user_id, date, len(scores), scores[0]\n",
    "        break\n",
    "    break"
   ]
  },
  {
   "cell_type": "code",
   "execution_count": null,
   "metadata": {
    "collapsed": true
   },
   "outputs": [],
   "source": []
  }
 ],
 "metadata": {
  "kernelspec": {
   "display_name": "Python 2",
   "language": "python",
   "name": "python2"
  },
  "language_info": {
   "codemirror_mode": {
    "name": "ipython",
    "version": 2
   },
   "file_extension": ".py",
   "mimetype": "text/x-python",
   "name": "python",
   "nbconvert_exporter": "python",
   "pygments_lexer": "ipython2",
   "version": "2.7.12"
  }
 },
 "nbformat": 4,
 "nbformat_minor": 1
}

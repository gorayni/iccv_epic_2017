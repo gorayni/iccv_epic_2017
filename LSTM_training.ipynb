{
 "cells": [
  {
   "cell_type": "code",
   "execution_count": 1,
   "metadata": {
    "collapsed": false,
    "deletable": true,
    "editable": true
   },
   "outputs": [
    {
     "data": {
      "application/javascript": [
       "IPython.OutputArea.auto_scroll_threshold = 9999;"
      ],
      "text/plain": [
       "<IPython.core.display.Javascript object>"
      ]
     },
     "metadata": {},
     "output_type": "display_data"
    }
   ],
   "source": [
    "%%javascript\n",
    "IPython.OutputArea.auto_scroll_threshold = 9999;"
   ]
  },
  {
   "cell_type": "code",
   "execution_count": 2,
   "metadata": {
    "collapsed": false,
    "deletable": true,
    "editable": true
   },
   "outputs": [],
   "source": [
    "%matplotlib inline\n",
    "\n",
    "from __future__ import division\n",
    "\n",
    "import brightside as bs\n",
    "import numpy as np\n",
    "import ntcir\n",
    "import ntcir.IO as IO\n",
    "import os\n",
    "import os.path as osp\n",
    "import re\n",
    "import itertools\n",
    "import pickle\n",
    "import random\n",
    "\n",
    "import matplotlib\n",
    "import matplotlib.pyplot as plt\n",
    "import seaborn as sns\n",
    "from IPython.display import display\n",
    "\n",
    "import collections\n",
    "\n",
    "import pandas as pd\n",
    "\n",
    "from skimage import io"
   ]
  },
  {
   "cell_type": "markdown",
   "metadata": {
    "collapsed": false,
    "deletable": true,
    "editable": true
   },
   "source": [
    "Loading the data"
   ]
  },
  {
   "cell_type": "code",
   "execution_count": 3,
   "metadata": {
    "collapsed": false,
    "deletable": true,
    "editable": true
   },
   "outputs": [],
   "source": [
    "users = IO.load_annotations(ntcir.filepaths)\n",
    "categories = IO.load_categories(ntcir.filepaths)\n",
    "sorted_users = ntcir.utils.sort(users)\n",
    "\n",
    "# Full day sequences\n",
    "num_frames_per_day = 2880\n",
    "sequences = ntcir.get_sequences(sorted_users, num_frames_per_day)"
   ]
  },
  {
   "cell_type": "markdown",
   "metadata": {
    "collapsed": false,
    "deletable": true,
    "editable": true
   },
   "source": [
    "Preparing training batches"
   ]
  },
  {
   "cell_type": "code",
   "execution_count": 4,
   "metadata": {
    "collapsed": false,
    "deletable": true,
    "editable": true
   },
   "outputs": [],
   "source": [
    "training_set = ntcir.read_split('training_split.txt')\n",
    "validation_set = ntcir.read_split('validation_split.txt')\n",
    "\n",
    "training_batches = ntcir.get_training_batches(training_set, sequences)\n",
    "validation_batches = ntcir.get_batches(validation_set, sequences)"
   ]
  },
  {
   "cell_type": "markdown",
   "metadata": {
    "collapsed": false,
    "deletable": true,
    "editable": true
   },
   "source": [
    "## Keras"
   ]
  },
  {
   "cell_type": "markdown",
   "metadata": {
    "collapsed": false,
    "deletable": true,
    "editable": true
   },
   "source": [
    "Forcing keras to use CPU"
   ]
  },
  {
   "cell_type": "code",
   "execution_count": 5,
   "metadata": {
    "collapsed": false,
    "deletable": true,
    "editable": true
   },
   "outputs": [],
   "source": [
    "# import os\n",
    "# os.environ[\"CUDA_DEVICE_ORDER\"] = \"PCI_BUS_ID\"   # see issue #152\n",
    "# os.environ[\"CUDA_VISIBLE_DEVICES\"] = \"\""
   ]
  },
  {
   "cell_type": "code",
   "execution_count": 9,
   "metadata": {
    "collapsed": false,
    "editable": true
   },
   "outputs": [
    {
     "name": "stdout",
     "output_type": "stream",
     "text": [
      "Epoch 1/1\n",
      "5/5 [==============================] - 59s - loss: 3.0760 - acc: 0.0200 - val_loss: 3.0905 - val_acc: 0.0000e+00\n"
     ]
    }
   ],
   "source": [
    "from keras import backend as K\n",
    "from keras.optimizers import SGD\n",
    "from keras.preprocessing.image import ImageDataGenerator\n",
    "from keras.callbacks import ModelCheckpoint\n",
    "from experiments.utils import HistoryLog\n",
    "from experiments.utils import generate_batch\n",
    "import experiments as exp\n",
    "\n",
    "\n",
    "np.random.seed(42)\n",
    "learning_rate=0.00001\n",
    "sgd = SGD(lr=learning_rate, decay=0.000005, momentum=0.9, nesterov=True)\n",
    "model = exp.vgg_16_plus_lstm(vgg16_weights='weights.VGG-16.best.hdf5')\n",
    "model.compile(loss='categorical_crossentropy', optimizer=sgd, metrics=['accuracy'])\n",
    "\n",
    "# prepare data augmentation configuration\n",
    "train_datagen = ImageDataGenerator(rescale=1./255,\n",
    "                                   rotation_range=40,\n",
    "                                   width_shift_range=0.2,\n",
    "                                   height_shift_range=0.2,\n",
    "                                   zoom_range=0.2,\n",
    "                                   horizontal_flip=True)\n",
    "\n",
    "val_datagen = ImageDataGenerator(rescale=1./255)\n",
    "\n",
    "train_generator = generate_batch(train_datagen, users, training_batches, steps_per_epoch=5)\n",
    "\n",
    "val_generator = generate_batch(val_datagen, users, validation_batches)\n",
    "    \n",
    "# checkpoint\n",
    "weights_filepath=\"weights.VGG-16+LSTM.{epoch:02d}.hdf5\"\n",
    "checkpoint = ModelCheckpoint(weights_filepath, monitor='val_acc', verbose=1)\n",
    "history = HistoryLog()\n",
    "\n",
    "# fine-tune the model\n",
    "model.fit_generator(\n",
    "        train_generator,\n",
    "        samples_per_epoch=len(training_batches),#36095,#15,\n",
    "        nb_epoch=10,\n",
    "        callbacks=[history],\n",
    "        callbacks=[checkpoint, history],\n",
    "        validation_data=val_generator,\n",
    "        nb_val_samples=len(validation_batches))#6225)#20)\n",
    "\n",
    "loss_filepath = \"VGG-16+LSTM.lr_{}.loss.log\".format(learning_rate)\n",
    "history.log_training_loss(loss_filepath)\n",
    "\n",
    "epoch_filepath = \"VGG-16+LSTM.lr_{}.epoch.log\".format(learning_rate)\n",
    "history.log_epoch(epoch_filepath)\n",
    "\n",
    "K.clear_session()"
   ]
  },
  {
   "cell_type": "code",
   "execution_count": null,
   "metadata": {
    "collapsed": true
   },
   "outputs": [],
   "source": []
  }
 ],
 "metadata": {
  "kernelspec": {
   "display_name": "Python 2",
   "language": "python",
   "name": "python2"
  },
  "language_info": {
   "codemirror_mode": {
    "name": "ipython",
    "version": 2
   },
   "file_extension": ".py",
   "mimetype": "text/x-python",
   "name": "python",
   "nbconvert_exporter": "python",
   "pygments_lexer": "ipython2",
   "version": "2.7.12"
  }
 },
 "nbformat": 4,
 "nbformat_minor": 1
}

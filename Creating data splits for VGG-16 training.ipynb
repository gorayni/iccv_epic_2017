{
 "cells": [
  {
   "cell_type": "code",
   "execution_count": 1,
   "metadata": {
    "collapsed": false
   },
   "outputs": [
    {
     "data": {
      "application/javascript": [
       "IPython.OutputArea.auto_scroll_threshold = 9999;"
      ],
      "text/plain": [
       "<IPython.core.display.Javascript object>"
      ]
     },
     "metadata": {},
     "output_type": "display_data"
    }
   ],
   "source": [
    "%%javascript\n",
    "IPython.OutputArea.auto_scroll_threshold = 9999;"
   ]
  },
  {
   "cell_type": "code",
   "execution_count": 2,
   "metadata": {
    "collapsed": true
   },
   "outputs": [],
   "source": [
    "%matplotlib inline\n",
    "\n",
    "from __future__ import division\n",
    "\n",
    "import brightside as bs\n",
    "import numpy as np\n",
    "import ntcir\n",
    "import ntcir.IO as IO\n",
    "import os\n",
    "import os.path as osp\n",
    "import re\n",
    "import itertools\n",
    "import pickle\n",
    "import random\n",
    "\n",
    "import errno\n",
    "\n",
    "import matplotlib\n",
    "import matplotlib.pyplot as plt\n",
    "import seaborn as sns\n",
    "from IPython.display import display\n",
    "\n",
    "import collections\n",
    "from easydict import EasyDict as edict\n",
    "import pandas as pd\n",
    "\n",
    "from skimage import io\n",
    "import shutil\n",
    "from collections import defaultdict"
   ]
  },
  {
   "cell_type": "code",
   "execution_count": 3,
   "metadata": {
    "collapsed": false
   },
   "outputs": [],
   "source": [
    "users = IO.load_annotations(ntcir.filepaths)\n",
    "sorted_users = ntcir.utils.sort(users)\n",
    "categories = IO.load_categories(ntcir.filepaths)\n",
    "\n",
    "days = defaultdict(lambda: defaultdict(ntcir.Day))\n",
    "for user in sorted_users:\n",
    "    for day in user.days:\n",
    "        days[user.id_][day.date] = day"
   ]
  },
  {
   "cell_type": "code",
   "execution_count": 14,
   "metadata": {
    "collapsed": false
   },
   "outputs": [],
   "source": [
    "def makedirs(dir_path):\n",
    "    try:\n",
    "        os.makedirs(dir_path)\n",
    "    except OSError as exc:\n",
    "        if exc.errno == errno.EEXIST and os.path.isdir(dir_path):\n",
    "            pass\n",
    "        else:\n",
    "            raise\n",
    "            \n",
    "def num_digits(number):\n",
    "    return int(np.floor(np.log10(np.abs(number))) + 1)\n",
    "\n",
    "def ext(path):\n",
    "    return os.path.splitext(path)[-1]"
   ]
  },
  {
   "cell_type": "code",
   "execution_count": 14,
   "metadata": {
    "collapsed": false
   },
   "outputs": [],
   "source": [
    "def link_images(num_categories, split_dir, padding_zeros, targets, img_paths, indices=None):\n",
    "    counter_inst = np.ones((num_categories), np.int)\n",
    "    if indices == None:\n",
    "        indices = xrange(len(targets))\n",
    "        \n",
    "    for j in indices:\n",
    "        category_ind = targets[j]\n",
    "        img_dir = os.path.join(split_dir, str(category_ind))\n",
    "        \n",
    "        num_img = counter_inst[category_ind]\n",
    "        dst_basename = str(num_img).zfill(padding_zeros)\n",
    "        dst_basename += ext(img_paths[j])\n",
    "        dst_filepath = os.path.join(img_dir, dst_basename)\n",
    "\n",
    "        os.symlink(img_paths[j], dst_filepath)\n",
    "        counter_inst[category_ind] += 1"
   ]
  },
  {
   "cell_type": "code",
   "execution_count": 26,
   "metadata": {
    "collapsed": false
   },
   "outputs": [],
   "source": [
    "num_categories = len(categories)\n",
    "num_images = sum([u.num_images for u in sorted_users])\n",
    "padding_zeros = num_digits(num_images)\n",
    "\n",
    "splits = ['training','test','validation']\n",
    "filepaths = ['training_split.txt','validation_split.txt', 'test_split.txt']\n",
    "for split, filepath in zip(splits, filepaths):\n",
    "    \n",
    "    split_dir = osp.join('data', split)\n",
    "    if os.path.isdir(split_dir):\n",
    "        shutil.rmtree(split_dir)    \n",
    "    \n",
    "    for j in xrange(num_categories): \n",
    "        category = str(j)\n",
    "        category_dir = os.path.join(split_dir, category)\n",
    "        makedirs(category_dir)\n",
    "        \n",
    "    targets = list()\n",
    "    img_paths = list()\n",
    "    for user_id, date in ntcir.read_split(filepath):\n",
    "        for image in days[user_id][date].images:\n",
    "            targets.append(image.label)\n",
    "            img_paths.append(image.path)\n",
    "    \n",
    "    link_images(num_categories, split_dir, padding_zeros, targets, img_paths)"
   ]
  },
  {
   "cell_type": "code",
   "execution_count": null,
   "metadata": {
    "collapsed": true
   },
   "outputs": [],
   "source": []
  }
 ],
 "metadata": {
  "kernelspec": {
   "display_name": "Python 2",
   "language": "python",
   "name": "python2"
  },
  "language_info": {
   "codemirror_mode": {
    "name": "ipython",
    "version": 2
   },
   "file_extension": ".py",
   "mimetype": "text/x-python",
   "name": "python",
   "nbconvert_exporter": "python",
   "pygments_lexer": "ipython2",
   "version": "2.7.12"
  }
 },
 "nbformat": 4,
 "nbformat_minor": 1
}

{
 "cells": [
  {
   "cell_type": "markdown",
   "metadata": {},
   "source": [
    "# Evaluation"
   ]
  },
  {
   "cell_type": "code",
   "execution_count": 1,
   "metadata": {
    "collapsed": false
   },
   "outputs": [
    {
     "data": {
      "application/javascript": [
       "IPython.OutputArea.auto_scroll_threshold = 9999;"
      ],
      "text/plain": [
       "<IPython.core.display.Javascript object>"
      ]
     },
     "metadata": {},
     "output_type": "display_data"
    }
   ],
   "source": [
    "%%javascript\n",
    "IPython.OutputArea.auto_scroll_threshold = 9999;"
   ]
  },
  {
   "cell_type": "code",
   "execution_count": 59,
   "metadata": {
    "collapsed": false
   },
   "outputs": [],
   "source": [
    "%matplotlib inline\n",
    "\n",
    "from __future__ import division\n",
    "import seaborn as sns\n",
    "import matplotlib\n",
    "import matplotlib.pyplot as plt\n",
    "import brightside as bs\n",
    "import numpy as np\n",
    "import os\n",
    "import experiments as exp\n",
    "import ntcir\n",
    "import ntcir.IO as IO\n",
    "from matplotlib.colors import ListedColormap\n",
    "\n",
    "import sklearn.metrics as metrics\n",
    "\n",
    "# Defining colormap for confusion matrices plots\n",
    "cmap = list(reversed(sns.color_palette(\"RdBu\", 40).as_hex()))\n",
    "cmap = ListedColormap(cmap)"
   ]
  },
  {
   "cell_type": "code",
   "execution_count": 3,
   "metadata": {
    "collapsed": false
   },
   "outputs": [],
   "source": [
    "categories = IO.load_categories(ntcir.filepaths)"
   ]
  },
  {
   "cell_type": "code",
   "execution_count": 4,
   "metadata": {
    "collapsed": false
   },
   "outputs": [],
   "source": [
    "from keras import backend as K\n",
    "import tensorflow as tf\n",
    "import keras.backend.tensorflow_backend as KTF\n",
    "\n",
    "def get_session(gpu_fraction=0.8):\n",
    "    num_threads = os.environ.get('OMP_NUM_THREADS')\n",
    "    gpu_options = tf.GPUOptions(per_process_gpu_memory_fraction=gpu_fraction)\n",
    "\n",
    "    if num_threads:\n",
    "        return tf.Session(config=tf.ConfigProto(\n",
    "            gpu_options=gpu_options, intra_op_parallelism_threads=num_threads))\n",
    "    else:\n",
    "        return tf.Session(config=tf.ConfigProto(gpu_options=gpu_options))\n",
    "\n",
    "KTF.set_session(get_session())"
   ]
  },
  {
   "cell_type": "markdown",
   "metadata": {},
   "source": [
    "### VGG-16"
   ]
  },
  {
   "cell_type": "code",
   "execution_count": 5,
   "metadata": {
    "collapsed": false
   },
   "outputs": [
    {
     "name": "stdout",
     "output_type": "stream",
     "text": [
      "Found 2582 images belonging to 21 classes.\n"
     ]
    }
   ],
   "source": [
    "from keras.preprocessing.image import ImageDataGenerator\n",
    "\n",
    "test_datagen = ImageDataGenerator(rescale=1./255)\n",
    "test_generator = test_datagen.flow_from_directory('data/test/',\n",
    "                target_size=(224, 224),\n",
    "                batch_size=1)\n",
    "\n",
    "model = exp.vgg_16_second_phase_model('weights.VGG-16.best.tf.hdf5')"
   ]
  },
  {
   "cell_type": "code",
   "execution_count": 6,
   "metadata": {
    "collapsed": false
   },
   "outputs": [],
   "source": [
    "groundtruth = list()\n",
    "predictions = list()\n",
    "for i, (img, target) in enumerate(test_generator):\n",
    "    if i == test_generator.n:\n",
    "        break\n",
    "    prediction = model.predict(img)\n",
    "    predictions.append(np.argmax(prediction))\n",
    "    groundtruth.append(np.argmax(target))"
   ]
  },
  {
   "cell_type": "code",
   "execution_count": 7,
   "metadata": {
    "collapsed": false
   },
   "outputs": [],
   "source": [
    "groundtruth = list()\n",
    "predictions = list()\n",
    "for i, (img, target) in enumerate(test_generator):\n",
    "    if i == test_generator.n:\n",
    "        break\n",
    "    prediction = model.predict(img)\n",
    "    predictions.append(np.argmax(prediction))\n",
    "    groundtruth.append(np.argmax(target))\n",
    "    \n",
    "predictions = np.asarray(predictions)\n",
    "groundtruth = np.asarray(groundtruth)\n",
    "\n",
    "np.savetxt('VGG16.test.txt', np.vstack((groundtruth, predictions)).T, delimiter=\",\")"
   ]
  },
  {
   "cell_type": "code",
   "execution_count": 10,
   "metadata": {
    "collapsed": true
   },
   "outputs": [],
   "source": [
    "vgg16_results = np.loadtxt('VGG16.test.txt', delimiter=',')\n",
    "groundtruth, predictions = np.split(vgg16_results, 2, axis=1)\n",
    "accuracy = metrics.accuracy_score(groundtruth, predictions)"
   ]
  },
  {
   "cell_type": "code",
   "execution_count": 60,
   "metadata": {
    "collapsed": false
   },
   "outputs": [
    {
     "data": {
      "text/html": [
       "<b>Accuracy:  </b>0.671959721146"
      ],
      "text/latex": [
       "\\textbf{Accuracy: } 0.671959721146"
      ],
      "text/plain": [
       "<brightside.Attribute instance at 0x7fbe60e983b0>"
      ]
     },
     "metadata": {},
     "output_type": "display_data"
    },
    {
     "data": {
      "image/png": "[encoded data removed]",
      "text/plain": [
       "<matplotlib.figure.Figure at 0x7fbe6860f290>"
      ]
     },
     "metadata": {},
     "output_type": "display_data"
    }
   ],
   "source": [
    "bs.print_attribute('Accuracy: ', accuracy)\n",
    "fig, ax = bs.show_confusion_matrix(groundtruth, predictions, categories, (5,4), cmap=cmap, ticks_size=8, show_xticks=False, show_yticks=True, cbar=False)\n",
    "plt.savefig('confusion_matrix_VGG16.eps', format='eps', dpi=300, bbox_inches='tight')"
   ]
  },
  {
   "cell_type": "markdown",
   "metadata": {},
   "source": [
    "### VGG-16+LSTM"
   ]
  },
  {
   "cell_type": "code",
   "execution_count": 62,
   "metadata": {
    "collapsed": false
   },
   "outputs": [
    {
     "data": {
      "text/html": [
       "<b>Accuracy:  </b>0.671959721146"
      ],
      "text/latex": [
       "\\textbf{Accuracy: } 0.671959721146"
      ],
      "text/plain": [
       "<brightside.Attribute instance at 0x7fbe940463b0>"
      ]
     },
     "metadata": {},
     "output_type": "display_data"
    },
    {
     "data": {
      "image/png": "[encoded data removed]",
      "text/plain": [
       "<matplotlib.figure.Figure at 0x7fbe9403ef90>"
      ]
     },
     "metadata": {},
     "output_type": "display_data"
    }
   ],
   "source": [
    "bs.print_attribute('Accuracy: ', accuracy)\n",
    "fig, ax = bs.show_confusion_matrix(groundtruth, predictions, categories, (5,4), cmap=cmap, ticks_size=8, show_xticks=False, show_yticks=False, cbar=False)\n",
    "plt.savefig('confusion_matrix_VGG16+LSTM.eps', format='eps', dpi=300, bbox_inches='tight')"
   ]
  },
  {
   "cell_type": "markdown",
   "metadata": {},
   "source": [
    "### Filtered VGG-16+LSTM"
   ]
  },
  {
   "cell_type": "code",
   "execution_count": 64,
   "metadata": {
    "collapsed": false
   },
   "outputs": [
    {
     "data": {
      "text/html": [
       "<b>Accuracy:  </b>0.671959721146"
      ],
      "text/latex": [
       "\\textbf{Accuracy: } 0.671959721146"
      ],
      "text/plain": [
       "<brightside.Attribute instance at 0x7fbe609d7c20>"
      ]
     },
     "metadata": {},
     "output_type": "display_data"
    },
    {
     "data": {
      "image/png": "[encoded data removed]",
      "text/plain": [
       "<matplotlib.figure.Figure at 0x7fbec01d8a50>"
      ]
     },
     "metadata": {},
     "output_type": "display_data"
    }
   ],
   "source": [
    "bs.print_attribute('Accuracy: ', accuracy)\n",
    "fig, ax = bs.show_confusion_matrix(groundtruth, predictions, categories, (5,4), cmap=cmap, ticks_size=8, show_xticks=False, show_yticks=False, cbar=False)\n",
    "plt.savefig('confusion_matrix_Filtered_VGG16+LSTM.eps', format='eps', dpi=300, bbox_inches='tight')"
   ]
  },
  {
   "cell_type": "code",
   "execution_count": null,
   "metadata": {
    "collapsed": true
   },
   "outputs": [],
   "source": []
  }
 ],
 "metadata": {
  "kernelspec": {
   "display_name": "Python 2",
   "language": "python",
   "name": "python2"
  },
  "language_info": {
   "codemirror_mode": {
    "name": "ipython",
    "version": 2
   },
   "file_extension": ".py",
   "mimetype": "text/x-python",
   "name": "python",
   "nbconvert_exporter": "python",
   "pygments_lexer": "ipython2",
   "version": "2.7.12"
  }
 },
 "nbformat": 4,
 "nbformat_minor": 1
}

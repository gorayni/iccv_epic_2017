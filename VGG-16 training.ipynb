{
 "cells": [
  {
   "cell_type": "markdown",
   "metadata": {
    "collapsed": false
   },
   "source": [
    "# VGG-16 training for 21 Activities"
   ]
  },
  {
   "cell_type": "code",
   "execution_count": 1,
   "metadata": {
    "collapsed": false
   },
   "outputs": [
    {
     "data": {
      "application/javascript": [
       "IPython.OutputArea.auto_scroll_threshold = 9999;"
      ],
      "text/plain": [
       "<IPython.core.display.Javascript object>"
      ]
     },
     "metadata": {},
     "output_type": "display_data"
    }
   ],
   "source": [
    "%%javascript\n",
    "IPython.OutputArea.auto_scroll_threshold = 9999;"
   ]
  },
  {
   "cell_type": "code",
   "execution_count": 2,
   "metadata": {
    "collapsed": true
   },
   "outputs": [],
   "source": [
    "%matplotlib inline\n",
    "\n",
    "import seaborn as sns\n",
    "import matplotlib\n",
    "import matplotlib.pyplot as plt\n",
    "import brightside as bs"
   ]
  },
  {
   "cell_type": "markdown",
   "metadata": {
    "collapsed": true
   },
   "source": [
    "Defining common Keras functions"
   ]
  },
  {
   "cell_type": "code",
   "execution_count": 3,
   "metadata": {
    "collapsed": false
   },
   "outputs": [
    {
     "name": "stderr",
     "output_type": "stream",
     "text": [
      "Using TensorFlow backend.\n"
     ]
    }
   ],
   "source": [
    "from __future__ import division\n",
    "from keras.applications import vgg16\n",
    "from keras.layers import Dense, Flatten\n",
    "from keras.layers import Dropout\n",
    "from keras.models import Model\n",
    "from keras import backend as K\n",
    "from keras.callbacks import Callback\n",
    "from easydict import EasyDict as edict\n",
    "import numpy as np\n",
    "from keras.constraints import maxnorm\n",
    "\n",
    "import os\n",
    "import tensorflow as tf\n",
    "import keras.backend.tensorflow_backend as KTF\n",
    "\n",
    "def get_session(gpu_fraction=0.8):\n",
    "    num_threads = os.environ.get('OMP_NUM_THREADS')\n",
    "    gpu_options = tf.GPUOptions(per_process_gpu_memory_fraction=gpu_fraction)\n",
    "\n",
    "    if num_threads:\n",
    "        return tf.Session(config=tf.ConfigProto(\n",
    "            gpu_options=gpu_options, intra_op_parallelism_threads=num_threads))\n",
    "    else:\n",
    "        return tf.Session(config=tf.ConfigProto(gpu_options=gpu_options))\n",
    "\n",
    "KTF.set_session(get_session())\n",
    "\n",
    "img_width, img_height = 224, 224\n",
    "\n",
    "def define_model(img_width = 224, img_height = 224):\n",
    "    base_model = vgg16.VGG16(include_top=False, weights='imagenet', input_shape=(img_width, img_height, 3))\n",
    "        \n",
    "    for layer in base_model.layers:\n",
    "        layer.trainable = False\n",
    "    \n",
    "    x = base_model.output        \n",
    "    x = Flatten(name='flatten')(x)\n",
    "    x = Dense(4096, activation='relu', name='fc1', W_constraint=maxnorm(3))(x)\n",
    "    x = Dropout(0.5)(x)\n",
    "    x = Dense(4096, activation='relu', name='fc2', W_constraint=maxnorm(3))(x)\n",
    "    x = Dropout(0.5)(x)\n",
    "    x = Dense(21, activation='softmax', name='predictions')(x)\n",
    "        \n",
    "    return Model(input=base_model.input, output=x)\n",
    "\n",
    "class HistoryLog(Callback):\n",
    "    def on_train_begin(self,logs={}):\n",
    "        self.training = edict({'loss': []})\n",
    "        self.epoch = edict({'acc': [], 'loss': [], 'val_acc': [], 'val_loss': []})\n",
    "\n",
    "    def on_epoch_end(self, epoch, logs={}):        \n",
    "        self.epoch.acc.append(logs.get('acc'))\n",
    "        self.epoch.loss.append(logs.get('loss'))\n",
    "        self.epoch.val_acc.append(logs.get('val_acc'))\n",
    "        self.epoch.val_loss.append(logs.get('val_loss'))\n",
    "        \n",
    "    def on_batch_end(self, batch, logs={}):\n",
    "        self.training.loss.append(logs.get('loss'))\n",
    "        \n",
    "    def log_training_loss(self, filepath):\n",
    "        training_loss = np.array(self.training.loss)\n",
    "        np.savetxt(filepath, training_loss, delimiter=\",\")\n",
    "        \n",
    "    def log_epoch(self, filepath):\n",
    "        epoch = np.asarray([self.epoch.loss, self.epoch.val_loss, self.epoch.acc, self.epoch.val_acc])\n",
    "        np.savetxt(filepath, epoch.T, delimiter=\",\")"
   ]
  },
  {
   "cell_type": "markdown",
   "metadata": {
    "collapsed": false
   },
   "source": [
    "Printing VGG-16 adjusted architecture"
   ]
  },
  {
   "cell_type": "code",
   "execution_count": 6,
   "metadata": {
    "collapsed": false
   },
   "outputs": [
    {
     "name": "stdout",
     "output_type": "stream",
     "text": [
      "____________________________________________________________________________________________________\n",
      "Layer (type)                     Output Shape          Param #     Connected to                     \n",
      "====================================================================================================\n",
      "input_1 (InputLayer)             (None, 224, 224, 3)   0                                            \n",
      "____________________________________________________________________________________________________\n",
      "block1_conv1 (Convolution2D)     (None, 224, 224, 64)  1792        input_1[0][0]                    \n",
      "____________________________________________________________________________________________________\n",
      "block1_conv2 (Convolution2D)     (None, 224, 224, 64)  36928       block1_conv1[0][0]               \n",
      "____________________________________________________________________________________________________\n",
      "block1_pool (MaxPooling2D)       (None, 112, 112, 64)  0           block1_conv2[0][0]               \n",
      "____________________________________________________________________________________________________\n",
      "block2_conv1 (Convolution2D)     (None, 112, 112, 128) 73856       block1_pool[0][0]                \n",
      "____________________________________________________________________________________________________\n",
      "block2_conv2 (Convolution2D)     (None, 112, 112, 128) 147584      block2_conv1[0][0]               \n",
      "____________________________________________________________________________________________________\n",
      "block2_pool (MaxPooling2D)       (None, 56, 56, 128)   0           block2_conv2[0][0]               \n",
      "____________________________________________________________________________________________________\n",
      "block3_conv1 (Convolution2D)     (None, 56, 56, 256)   295168      block2_pool[0][0]                \n",
      "____________________________________________________________________________________________________\n",
      "block3_conv2 (Convolution2D)     (None, 56, 56, 256)   590080      block3_conv1[0][0]               \n",
      "____________________________________________________________________________________________________\n",
      "block3_conv3 (Convolution2D)     (None, 56, 56, 256)   590080      block3_conv2[0][0]               \n",
      "____________________________________________________________________________________________________\n",
      "block3_pool (MaxPooling2D)       (None, 28, 28, 256)   0           block3_conv3[0][0]               \n",
      "____________________________________________________________________________________________________\n",
      "block4_conv1 (Convolution2D)     (None, 28, 28, 512)   1180160     block3_pool[0][0]                \n",
      "____________________________________________________________________________________________________\n",
      "block4_conv2 (Convolution2D)     (None, 28, 28, 512)   2359808     block4_conv1[0][0]               \n",
      "____________________________________________________________________________________________________\n",
      "block4_conv3 (Convolution2D)     (None, 28, 28, 512)   2359808     block4_conv2[0][0]               \n",
      "____________________________________________________________________________________________________\n",
      "block4_pool (MaxPooling2D)       (None, 14, 14, 512)   0           block4_conv3[0][0]               \n",
      "____________________________________________________________________________________________________\n",
      "block5_conv1 (Convolution2D)     (None, 14, 14, 512)   2359808     block4_pool[0][0]                \n",
      "____________________________________________________________________________________________________\n",
      "block5_conv2 (Convolution2D)     (None, 14, 14, 512)   2359808     block5_conv1[0][0]               \n",
      "____________________________________________________________________________________________________\n",
      "block5_conv3 (Convolution2D)     (None, 14, 14, 512)   2359808     block5_conv2[0][0]               \n",
      "____________________________________________________________________________________________________\n",
      "block5_pool (MaxPooling2D)       (None, 7, 7, 512)     0           block5_conv3[0][0]               \n",
      "____________________________________________________________________________________________________\n",
      "flatten (Flatten)                (None, 25088)         0           block5_pool[0][0]                \n",
      "____________________________________________________________________________________________________\n",
      "fc1 (Dense)                      (None, 4096)          102764544   flatten[0][0]                    \n",
      "____________________________________________________________________________________________________\n",
      "dropout_1 (Dropout)              (None, 4096)          0           fc1[0][0]                        \n",
      "____________________________________________________________________________________________________\n",
      "fc2 (Dense)                      (None, 4096)          16781312    dropout_1[0][0]                  \n",
      "____________________________________________________________________________________________________\n",
      "dropout_2 (Dropout)              (None, 4096)          0           fc2[0][0]                        \n",
      "____________________________________________________________________________________________________\n",
      "predictions (Dense)              (None, 21)            86037       dropout_2[0][0]                  \n",
      "====================================================================================================\n",
      "Total params: 134,346,581\n",
      "Trainable params: 119,631,893\n",
      "Non-trainable params: 14,714,688\n",
      "____________________________________________________________________________________________________\n"
     ]
    }
   ],
   "source": [
    "model = define_model()\n",
    "model.summary()\n",
    "K.clear_session()"
   ]
  },
  {
   "cell_type": "markdown",
   "metadata": {
    "collapsed": false
   },
   "source": [
    "## Training"
   ]
  },
  {
   "cell_type": "code",
   "execution_count": null,
   "metadata": {
    "collapsed": false
   },
   "outputs": [
    {
     "name": "stdout",
     "output_type": "stream",
     "text": [
      "Found 36095 images belonging to 21 classes.\n",
      "Found 6225 images belonging to 21 classes.\n",
      "Epoch 1/10\n",
      "  457/36095 [..............................] - ETA: 8428s - loss: 4.0521 - acc: 0.1072"
     ]
    }
   ],
   "source": [
    "from keras.optimizers import SGD\n",
    "from keras.preprocessing.image import ImageDataGenerator\n",
    "from keras.callbacks import ModelCheckpoint\n",
    "from keras.callbacks import History \n",
    "\n",
    "seed = 42\n",
    "np.random.seed(seed)\n",
    "\n",
    "sgd = SGD(lr=0.0001, decay=0.000005, momentum=0.9, nesterov=True)\n",
    "model = define_model()\n",
    "model.compile(loss='categorical_crossentropy', optimizer=sgd, metrics=['accuracy'])\n",
    "\n",
    "# prepare data augmentation configuration\n",
    "train_datagen = ImageDataGenerator(rescale=1./255,\n",
    "                                   rotation_range=40,\n",
    "                                   width_shift_range=0.2,\n",
    "                                   height_shift_range=0.2,\n",
    "                                   zoom_range=0.2,\n",
    "                                   horizontal_flip=True)\n",
    "\n",
    "val_datagen = ImageDataGenerator(rescale=1./255)\n",
    "\n",
    "train_generator = train_datagen.flow_from_directory('data/training', \n",
    "        target_size=(img_height, img_width),\n",
    "        class_mode='categorical',\n",
    "        batch_size=1)\n",
    "\n",
    "validation_generator = val_datagen.flow_from_directory(\n",
    "        'data/validation',\n",
    "        target_size=(img_height, img_width),\n",
    "        class_mode='categorical',\n",
    "        batch_size=1)\n",
    "\n",
    "# checkpoint\n",
    "weights_filepath=\"weights.VGG-16.{epoch:02d}.hdf5\"\n",
    "checkpoint = ModelCheckpoint(weights_filepath, monitor='val_acc', verbose=1, save_best_only=False)\n",
    "history = HistoryLog()\n",
    "\n",
    "# fine-tune the model\n",
    "model.fit_generator(\n",
    "        train_generator,\n",
    "        samples_per_epoch=36095,#36095,#15,\n",
    "        nb_epoch=10,\n",
    "        callbacks=[checkpoint, history],\n",
    "        validation_data=validation_generator,\n",
    "        nb_val_samples=6225)#6225)#20)\n",
    "\n",
    "loss_filepath = \"loss.log\"\n",
    "history.log_training_loss(loss_filepath)\n",
    "\n",
    "epoch_filepath = \"epoch.log\"\n",
    "history.log_epoch(epoch_filepath)\n",
    "\n",
    "K.clear_session()"
   ]
  },
  {
   "cell_type": "code",
   "execution_count": 20,
   "metadata": {
    "collapsed": false
   },
   "outputs": [
    {
     "data": {
      "image/png": "[encoded data removed]",
      "text/plain": [
       "<matplotlib.figure.Figure at 0x7faa5facdd90>"
      ]
     },
     "metadata": {},
     "output_type": "display_data"
    }
   ],
   "source": [
    "epochs=np.arange(1, len(acc)+1)\n",
    "fig, ax = bs.plot_accuracy([acc, val_acc],['Training','Validation'], epochs=epochs,figsize=(6,4))"
   ]
  },
  {
   "cell_type": "markdown",
   "metadata": {
    "collapsed": false
   },
   "source": [
    "## Testing"
   ]
  },
  {
   "cell_type": "code",
   "execution_count": 21,
   "metadata": {
    "collapsed": false
   },
   "outputs": [
    {
     "name": "stdout",
     "output_type": "stream",
     "text": [
      "Found 2582 images belonging to 21 classes.\n",
      "Accuracy for epoch 00: 0.100309837335\n",
      "Accuracy for epoch 03: 0.133617350891\n"
     ]
    }
   ],
   "source": [
    "from __future__ import division\n",
    "from keras.optimizers import SGD\n",
    "from keras.preprocessing.image import ImageDataGenerator\n",
    "from keras.callbacks import ModelCheckpoint\n",
    "from keras.callbacks import History \n",
    "import collections\n",
    "\n",
    "def files_from(directory):\n",
    "    for file_ in os.listdir(directory):\n",
    "        filepath = os.path.join(directory, file_)\n",
    "        if not os.path.isfile(filepath):\n",
    "            continue\n",
    "        yield filepath\n",
    "        \n",
    "test_datagen = ImageDataGenerator(rescale=1./255)\n",
    "test_generator = test_datagen.flow_from_directory('data/test/',\n",
    "                target_size=(img_height, img_width),\n",
    "                batch_size=1)\n",
    "\n",
    "\n",
    "num_test_classes = len(test_generator.classes)\n",
    "\n",
    "accuracies = list()\n",
    "\n",
    "file_prefix=\"weights.VGG-16.\"\n",
    "weights_filepaths = [f for f in files_from('.') if f[2:].startswith(file_prefix)]\n",
    "\n",
    "for weights_filepath in weights_filepaths:\n",
    "    epoch = weights_filepath.split('.')[-2]\n",
    "    model = define_model()\n",
    "    model.compile(loss='categorical_crossentropy',optimizer=None, metrics=['accuracy'])\n",
    "    model.load_weights(weights_filepath)\n",
    "    loss, acc = model.evaluate_generator(test_generator, num_test_classes)\n",
    "    print 'Accuracy for epoch {}: {}'.format(epoch, acc)\n",
    "    accuracies.append(acc)\n",
    "    K.clear_session()     "
   ]
  },
  {
   "cell_type": "code",
   "execution_count": 22,
   "metadata": {
    "collapsed": true
   },
   "outputs": [],
   "source": [
    "K.clear_session()"
   ]
  },
  {
   "cell_type": "code",
   "execution_count": null,
   "metadata": {
    "collapsed": true
   },
   "outputs": [],
   "source": []
  }
 ],
 "metadata": {
  "kernelspec": {
   "display_name": "Python 2",
   "language": "python",
   "name": "python2"
  },
  "language_info": {
   "codemirror_mode": {
    "name": "ipython",
    "version": 2
   },
   "file_extension": ".py",
   "mimetype": "text/x-python",
   "name": "python",
   "nbconvert_exporter": "python",
   "pygments_lexer": "ipython2",
   "version": "2.7.12"
  }
 },
 "nbformat": 4,
 "nbformat_minor": 1
}
